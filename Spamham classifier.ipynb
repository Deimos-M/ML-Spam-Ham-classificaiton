{
 "cells": [
  {
   "cell_type": "markdown",
   "metadata": {},
   "source": [
    "## Description:\n",
    "\n",
    "* There are 922 e-mails divided equally between spam and non-spam(ham)\n",
    "* The first line of every email contains the subject and the third line contains the body as shown:"
   ]
  },
  {
   "cell_type": "markdown",
   "metadata": {},
   "source": [
    "![title](sample_email.png)"
   ]
  },
  {
   "cell_type": "markdown",
   "metadata": {},
   "source": [
    "### Task :- Perform text analysis only on the body to detect spam mails"
   ]
  },
  {
   "cell_type": "code",
   "execution_count": 253,
   "metadata": {
    "collapsed": true
   },
   "outputs": [],
   "source": [
    "#importing required libraries\n",
    "import numpy as np\n",
    "import pandas as pd\n",
    "import matplotlib.pyplot as plt\n",
    "import seaborn as sns\n",
    "%matplotlib inline\n",
    "\n",
    "import sqlite3\n",
    "import pickle\n",
    "from sklearn.feature_extraction.text import TfidfVectorizer\n",
    "from sklearn.feature_extraction.text import CountVectorizer\n",
    "from sklearn.naive_bayes import BernoulliNB\n",
    "from sklearn.naive_bayes import MultinomialNB\n",
    "\n",
    "\n",
    "from sklearn.preprocessing import StandardScaler\n",
    "from sklearn.model_selection import train_test_split\n",
    "from sklearn.model_selection import cross_val_score\n",
    "from sklearn.neighbors import KNeighborsClassifier\n",
    "from matplotlib.colors import ListedColormap\n",
    "from sklearn.metrics import accuracy_score\n",
    "from sklearn.metrics import confusion_matrix\n",
    "\n",
    "\n",
    "import re\n",
    "from nltk.corpus import stopwords\n",
    "import nltk \n",
    "\n",
    "import glob\n",
    "import errno\n",
    "\n",
    "from sklearn.manifold import  TSNE\n",
    "from sklearn.utils import shuffle "
   ]
  },
  {
   "cell_type": "code",
   "execution_count": 115,
   "metadata": {
    "collapsed": true
   },
   "outputs": [],
   "source": [
    "#function to read all emails one by one\n",
    "def ret(loc):\n",
    "    path =loc \n",
    "    files = glob.glob(path)\n",
    "    lst=[] #list to store spam/ham emails\n",
    "    for fname in files: #reading file one by one\n",
    "        try:\n",
    "            with open(fname,'r') as f: #opening file in read mode\n",
    "                lines = f.readlines()  \n",
    "                str = '' \n",
    "                for i in range(2,len(lines)): #starting from 2nd index to ignore subject.\n",
    "                    str += lines[i].rstrip('\\n') #concatenation\n",
    "                lst.append(str) #adding string to list\n",
    "                f.close()\n",
    "        except IOError as exc:\n",
    "            if exc.errno != errno.EISDIR:\n",
    "                raise\n",
    "    return lst"
   ]
  },
  {
   "cell_type": "code",
   "execution_count": 178,
   "metadata": {},
   "outputs": [
    {
     "name": "stdout",
     "output_type": "stream",
     "text": [
      "481\n",
      "481\n"
     ]
    }
   ],
   "source": [
    "#function calling - give your own directory where you store the emails\n",
    "spam=ret('C:\\\\Users\\\\**\\\\Desktop\\\\jupyter\\\\Spam Dataset 3\\\\Spam emails\\\\*.txt')\n",
    "ham=ret('C:\\\\Users\\\\**\\\\Desktop\\\\jupyter\\\\Spam Dataset 3\\\\Ham emails\\\\*.txt')\n",
    "print(len(spam))\n",
    "print(len(ham))"
   ]
  },
  {
   "cell_type": "code",
   "execution_count": 179,
   "metadata": {},
   "outputs": [
    {
     "data": {
      "text/html": [
       "<div>\n",
       "<style>\n",
       "    .dataframe thead tr:only-child th {\n",
       "        text-align: right;\n",
       "    }\n",
       "\n",
       "    .dataframe thead th {\n",
       "        text-align: left;\n",
       "    }\n",
       "\n",
       "    .dataframe tbody tr th {\n",
       "        vertical-align: top;\n",
       "    }\n",
       "</style>\n",
       "<table border=\"1\" class=\"dataframe\">\n",
       "  <thead>\n",
       "    <tr style=\"text-align: right;\">\n",
       "      <th></th>\n",
       "      <th>mail</th>\n",
       "      <th>type</th>\n",
       "    </tr>\n",
       "  </thead>\n",
       "  <tbody>\n",
       "    <tr>\n",
       "      <th>0</th>\n",
       "      <td>* * * * * * * * * * * * * * * display box cred...</td>\n",
       "      <td>1</td>\n",
       "    </tr>\n",
       "    <tr>\n",
       "      <th>1</th>\n",
       "      <td>dear nlpeople , ' m sure ' ll agree auto insur...</td>\n",
       "      <td>1</td>\n",
       "    </tr>\n",
       "    <tr>\n",
       "      <th>2</th>\n",
       "      <td>want best hunt camp vacation life , felton 's ...</td>\n",
       "      <td>1</td>\n",
       "    </tr>\n",
       "    <tr>\n",
       "      <th>3</th>\n",
       "      <td>57 million email addresses $ 99 want money ? p...</td>\n",
       "      <td>1</td>\n",
       "    </tr>\n",
       "    <tr>\n",
       "      <th>4</th>\n",
       "      <td>attention ! warn ! adult ! warn ! adult ! unde...</td>\n",
       "      <td>1</td>\n",
       "    </tr>\n",
       "    <tr>\n",
       "      <th>5</th>\n",
       "      <td>attention ! warn ! adult ! warn ! adult ! unde...</td>\n",
       "      <td>1</td>\n",
       "    </tr>\n",
       "    <tr>\n",
       "      <th>6</th>\n",
       "      <td>subject : re : are debt ? help . qualify finge...</td>\n",
       "      <td>1</td>\n",
       "    </tr>\n",
       "    <tr>\n",
       "      <th>7</th>\n",
       "      <td>= = = = = = = = = = = = = = = = = = = = = = = ...</td>\n",
       "      <td>1</td>\n",
       "    </tr>\n",
       "    <tr>\n",
       "      <th>8</th>\n",
       "      <td>57 million email addresses $ 99 want money ? p...</td>\n",
       "      <td>1</td>\n",
       "    </tr>\n",
       "    <tr>\n",
       "      <th>9</th>\n",
       "      <td>$ 3500 per week home computer ! put free softw...</td>\n",
       "      <td>1</td>\n",
       "    </tr>\n",
       "    <tr>\n",
       "      <th>10</th>\n",
       "      <td>2 newest hottest interactive adult web site so...</td>\n",
       "      <td>1</td>\n",
       "    </tr>\n",
       "    <tr>\n",
       "      <th>11</th>\n",
       "      <td>hi . name denni . third-generation , professio...</td>\n",
       "      <td>1</td>\n",
       "    </tr>\n",
       "    <tr>\n",
       "      <th>12</th>\n",
       "      <td>desk robert g . allen dear nlpeople first let ...</td>\n",
       "      <td>1</td>\n",
       "    </tr>\n",
       "    <tr>\n",
       "      <th>13</th>\n",
       "      <td>* ever speed ticket need desperate ? * become ...</td>\n",
       "      <td>1</td>\n",
       "    </tr>\n",
       "    <tr>\n",
       "      <th>14</th>\n",
       "      <td>special : work home , sell successfully earn t...</td>\n",
       "      <td>1</td>\n",
       "    </tr>\n",
       "    <tr>\n",
       "      <th>15</th>\n",
       "      <td>rumor are true ! * * * * * * * * * * * * * * *...</td>\n",
       "      <td>1</td>\n",
       "    </tr>\n",
       "    <tr>\n",
       "      <th>16</th>\n",
       "      <td>federally mandate , electric deregulation , al...</td>\n",
       "      <td>1</td>\n",
       "    </tr>\n",
       "    <tr>\n",
       "      <th>17</th>\n",
       "      <td>pardon intrusion . offence mean . interest , s...</td>\n",
       "      <td>1</td>\n",
       "    </tr>\n",
       "    <tr>\n",
       "      <th>18</th>\n",
       "      <td>was released ! ! introducing . . . millions vo...</td>\n",
       "      <td>1</td>\n",
       "    </tr>\n",
       "    <tr>\n",
       "      <th>19</th>\n",
       "      <td>ever treat bid embarrase credit report bid cre...</td>\n",
       "      <td>1</td>\n",
       "    </tr>\n",
       "    <tr>\n",
       "      <th>20</th>\n",
       "      <td>: pay off 30 mortgage much less pay off credit...</td>\n",
       "      <td>1</td>\n",
       "    </tr>\n",
       "    <tr>\n",
       "      <th>21</th>\n",
       "      <td>authenticate sender subject : ( + ( + bull _ s...</td>\n",
       "      <td>1</td>\n",
       "    </tr>\n",
       "    <tr>\n",
       "      <th>22</th>\n",
       "      <td>hey , ' ll point . web site free trial 10 best...</td>\n",
       "      <td>1</td>\n",
       "    </tr>\n",
       "    <tr>\n",
       "      <th>23</th>\n",
       "      <td>horizon publish invite saltwater aquarium hobb...</td>\n",
       "      <td>1</td>\n",
       "    </tr>\n",
       "    <tr>\n",
       "      <th>24</th>\n",
       "      <td>multi-part message mime format . - - part0 _ 9...</td>\n",
       "      <td>1</td>\n",
       "    </tr>\n",
       "    <tr>\n",
       "      <th>25</th>\n",
       "      <td>read 1st paragraph ! convince , delete . bet i...</td>\n",
       "      <td>1</td>\n",
       "    </tr>\n",
       "    <tr>\n",
       "      <th>26</th>\n",
       "      <td>released . . . 30 , 0 , 0 email address ! plus...</td>\n",
       "      <td>1</td>\n",
       "    </tr>\n",
       "    <tr>\n",
       "      <th>27</th>\n",
       "      <td>attention ! warn ! adult ! warn ! adult ! unde...</td>\n",
       "      <td>1</td>\n",
       "    </tr>\n",
       "    <tr>\n",
       "      <th>28</th>\n",
       "      <td>hello , name kevin elphick manage director nur...</td>\n",
       "      <td>1</td>\n",
       "    </tr>\n",
       "    <tr>\n",
       "      <th>29</th>\n",
       "      <td>b r g n r f r e s 1 - stop travel supplier air...</td>\n",
       "      <td>1</td>\n",
       "    </tr>\n",
       "    <tr>\n",
       "      <th>...</th>\n",
       "      <td>...</td>\n",
       "      <td>...</td>\n",
       "    </tr>\n",
       "    <tr>\n",
       "      <th>932</th>\n",
       "      <td>* deadline abstracts - april 30 , 1998 * tag t...</td>\n",
       "      <td>0</td>\n",
       "    </tr>\n",
       "    <tr>\n",
       "      <th>933</th>\n",
       "      <td>certamen phonologicum iii pier marco bertinett...</td>\n",
       "      <td>0</td>\n",
       "    </tr>\n",
       "    <tr>\n",
       "      <th>934</th>\n",
       "      <td>second call papers icslp ' 98 5th internationa...</td>\n",
       "      <td>0</td>\n",
       "    </tr>\n",
       "    <tr>\n",
       "      <th>935</th>\n",
       "      <td>pre - final programme call participation works...</td>\n",
       "      <td>0</td>\n",
       "    </tr>\n",
       "    <tr>\n",
       "      <th>936</th>\n",
       "      <td>call participation logic course internet : dyn...</td>\n",
       "      <td>0</td>\n",
       "    </tr>\n",
       "    <tr>\n",
       "      <th>937</th>\n",
       "      <td>follow list contents forthcome issue journal l...</td>\n",
       "      <td>0</td>\n",
       "    </tr>\n",
       "    <tr>\n",
       "      <th>938</th>\n",
       "      <td>association language awareness knowledge langu...</td>\n",
       "      <td>0</td>\n",
       "    </tr>\n",
       "    <tr>\n",
       "      <th>939</th>\n",
       "      <td>evaluation parsing systems workshop jointly or...</td>\n",
       "      <td>0</td>\n",
       "    </tr>\n",
       "    <tr>\n",
       "      <th>940</th>\n",
       "      <td>= = = = = = = = = = = = = = = = = = = = = = = ...</td>\n",
       "      <td>0</td>\n",
       "    </tr>\n",
       "    <tr>\n",
       "      <th>941</th>\n",
       "      <td>tenth conference nordic general linguistic hol...</td>\n",
       "      <td>0</td>\n",
       "    </tr>\n",
       "    <tr>\n",
       "      <th>942</th>\n",
       "      <td>change date extended deadline - - - - - - - - ...</td>\n",
       "      <td>0</td>\n",
       "    </tr>\n",
       "    <tr>\n",
       "      <th>943</th>\n",
       "      <td>acl / coling-98 ( association computational li...</td>\n",
       "      <td>0</td>\n",
       "    </tr>\n",
       "    <tr>\n",
       "      <th>944</th>\n",
       "      <td>december 17 18 , 1998 , tilburg university hos...</td>\n",
       "      <td>0</td>\n",
       "    </tr>\n",
       "    <tr>\n",
       "      <th>945</th>\n",
       "      <td>final call papers als-98 australian linguistic...</td>\n",
       "      <td>0</td>\n",
       "    </tr>\n",
       "    <tr>\n",
       "      <th>946</th>\n",
       "      <td>call papers . student conference linguistic 10...</td>\n",
       "      <td>0</td>\n",
       "    </tr>\n",
       "    <tr>\n",
       "      <th>947</th>\n",
       "      <td>special \" stream \" 20th annual meet cognitive ...</td>\n",
       "      <td>0</td>\n",
       "    </tr>\n",
       "    <tr>\n",
       "      <th>948</th>\n",
       "      <td>workshop mathematical linguistics ( wml ) penn...</td>\n",
       "      <td>0</td>\n",
       "    </tr>\n",
       "    <tr>\n",
       "      <th>949</th>\n",
       "      <td>1998 nic symposium intercultural communication...</td>\n",
       "      <td>0</td>\n",
       "    </tr>\n",
       "    <tr>\n",
       "      <th>950</th>\n",
       "      <td>invitation workshop during 31st sle conference...</td>\n",
       "      <td>0</td>\n",
       "    </tr>\n",
       "    <tr>\n",
       "      <th>951</th>\n",
       "      <td>book list below linguist office available revi...</td>\n",
       "      <td>0</td>\n",
       "    </tr>\n",
       "    <tr>\n",
       "      <th>952</th>\n",
       "      <td>chus - - phonetic phonology group university c...</td>\n",
       "      <td>0</td>\n",
       "    </tr>\n",
       "    <tr>\n",
       "      <th>953</th>\n",
       "      <td>call papers distribute access linguistic resou...</td>\n",
       "      <td>0</td>\n",
       "    </tr>\n",
       "    <tr>\n",
       "      <th>954</th>\n",
       "      <td>coling-acl ' 98 workshop call papers + - - - -...</td>\n",
       "      <td>0</td>\n",
       "    </tr>\n",
       "    <tr>\n",
       "      <th>955</th>\n",
       "      <td>call paper syllable : typology theory conferen...</td>\n",
       "      <td>0</td>\n",
       "    </tr>\n",
       "    <tr>\n",
       "      <th>956</th>\n",
       "      <td>announcement call papers january 1998 - - - - ...</td>\n",
       "      <td>0</td>\n",
       "    </tr>\n",
       "    <tr>\n",
       "      <th>957</th>\n",
       "      <td>call papers twenty after publication linguisti...</td>\n",
       "      <td>0</td>\n",
       "    </tr>\n",
       "    <tr>\n",
       "      <th>958</th>\n",
       "      <td>call participation towards european evaluation...</td>\n",
       "      <td>0</td>\n",
       "    </tr>\n",
       "    <tr>\n",
       "      <th>959</th>\n",
       "      <td>final call paper lfg98 1998 international lexi...</td>\n",
       "      <td>0</td>\n",
       "    </tr>\n",
       "    <tr>\n",
       "      <th>960</th>\n",
       "      <td>call papers 5th international conference spoke...</td>\n",
       "      <td>0</td>\n",
       "    </tr>\n",
       "    <tr>\n",
       "      <th>961</th>\n",
       "      <td>iii brazilian international conference cogniti...</td>\n",
       "      <td>0</td>\n",
       "    </tr>\n",
       "  </tbody>\n",
       "</table>\n",
       "<p>962 rows × 2 columns</p>\n",
       "</div>"
      ],
      "text/plain": [
       "                                                  mail  type\n",
       "0    * * * * * * * * * * * * * * * display box cred...     1\n",
       "1    dear nlpeople , ' m sure ' ll agree auto insur...     1\n",
       "2    want best hunt camp vacation life , felton 's ...     1\n",
       "3    57 million email addresses $ 99 want money ? p...     1\n",
       "4    attention ! warn ! adult ! warn ! adult ! unde...     1\n",
       "5    attention ! warn ! adult ! warn ! adult ! unde...     1\n",
       "6    subject : re : are debt ? help . qualify finge...     1\n",
       "7    = = = = = = = = = = = = = = = = = = = = = = = ...     1\n",
       "8    57 million email addresses $ 99 want money ? p...     1\n",
       "9    $ 3500 per week home computer ! put free softw...     1\n",
       "10   2 newest hottest interactive adult web site so...     1\n",
       "11   hi . name denni . third-generation , professio...     1\n",
       "12   desk robert g . allen dear nlpeople first let ...     1\n",
       "13   * ever speed ticket need desperate ? * become ...     1\n",
       "14   special : work home , sell successfully earn t...     1\n",
       "15   rumor are true ! * * * * * * * * * * * * * * *...     1\n",
       "16   federally mandate , electric deregulation , al...     1\n",
       "17   pardon intrusion . offence mean . interest , s...     1\n",
       "18   was released ! ! introducing . . . millions vo...     1\n",
       "19   ever treat bid embarrase credit report bid cre...     1\n",
       "20   : pay off 30 mortgage much less pay off credit...     1\n",
       "21   authenticate sender subject : ( + ( + bull _ s...     1\n",
       "22   hey , ' ll point . web site free trial 10 best...     1\n",
       "23   horizon publish invite saltwater aquarium hobb...     1\n",
       "24   multi-part message mime format . - - part0 _ 9...     1\n",
       "25   read 1st paragraph ! convince , delete . bet i...     1\n",
       "26   released . . . 30 , 0 , 0 email address ! plus...     1\n",
       "27   attention ! warn ! adult ! warn ! adult ! unde...     1\n",
       "28   hello , name kevin elphick manage director nur...     1\n",
       "29   b r g n r f r e s 1 - stop travel supplier air...     1\n",
       "..                                                 ...   ...\n",
       "932  * deadline abstracts - april 30 , 1998 * tag t...     0\n",
       "933  certamen phonologicum iii pier marco bertinett...     0\n",
       "934  second call papers icslp ' 98 5th internationa...     0\n",
       "935  pre - final programme call participation works...     0\n",
       "936  call participation logic course internet : dyn...     0\n",
       "937  follow list contents forthcome issue journal l...     0\n",
       "938  association language awareness knowledge langu...     0\n",
       "939  evaluation parsing systems workshop jointly or...     0\n",
       "940  = = = = = = = = = = = = = = = = = = = = = = = ...     0\n",
       "941  tenth conference nordic general linguistic hol...     0\n",
       "942  change date extended deadline - - - - - - - - ...     0\n",
       "943  acl / coling-98 ( association computational li...     0\n",
       "944  december 17 18 , 1998 , tilburg university hos...     0\n",
       "945  final call papers als-98 australian linguistic...     0\n",
       "946  call papers . student conference linguistic 10...     0\n",
       "947  special \" stream \" 20th annual meet cognitive ...     0\n",
       "948  workshop mathematical linguistics ( wml ) penn...     0\n",
       "949  1998 nic symposium intercultural communication...     0\n",
       "950  invitation workshop during 31st sle conference...     0\n",
       "951  book list below linguist office available revi...     0\n",
       "952  chus - - phonetic phonology group university c...     0\n",
       "953  call papers distribute access linguistic resou...     0\n",
       "954  coling-acl ' 98 workshop call papers + - - - -...     0\n",
       "955  call paper syllable : typology theory conferen...     0\n",
       "956  announcement call papers january 1998 - - - - ...     0\n",
       "957  call papers twenty after publication linguisti...     0\n",
       "958  call participation towards european evaluation...     0\n",
       "959  final call paper lfg98 1998 international lexi...     0\n",
       "960  call papers 5th international conference spoke...     0\n",
       "961  iii brazilian international conference cogniti...     0\n",
       "\n",
       "[962 rows x 2 columns]"
      ]
     },
     "execution_count": 179,
     "metadata": {},
     "output_type": "execute_result"
    }
   ],
   "source": [
    "#creating a dataframe of all mails with label\n",
    "spam=pd.DataFrame(spam,columns=['mail'])\n",
    "ham=pd.DataFrame(ham,columns=['mail'])\n",
    "spam['type']=1\n",
    "ham['type']=0\n",
    "data=pd.concat([spam,ham],axis=0,ignore_index=True)\n",
    "data"
   ]
  },
  {
   "cell_type": "code",
   "execution_count": 181,
   "metadata": {},
   "outputs": [
    {
     "data": {
      "text/plain": [
       "1    481\n",
       "0    481\n",
       "Name: type, dtype: int64"
      ]
     },
     "execution_count": 181,
     "metadata": {},
     "output_type": "execute_result"
    }
   ],
   "source": [
    "data['type'].value_counts()"
   ]
  },
  {
   "cell_type": "code",
   "execution_count": 184,
   "metadata": {},
   "outputs": [
    {
     "data": {
      "text/plain": [
       "<function Connection.close>"
      ]
     },
     "execution_count": 184,
     "metadata": {},
     "output_type": "execute_result"
    }
   ],
   "source": [
    "#saving the file\n",
    "conn=sqlite3.connect('spam.sqlite')\n",
    "c=conn.cursor()\n",
    "spam.to_sql('Data',conn,if_exists='replace',index=False)\n",
    "conn.close"
   ]
  },
  {
   "cell_type": "markdown",
   "metadata": {},
   "source": [
    "## Preprocessing"
   ]
  },
  {
   "cell_type": "code",
   "execution_count": 187,
   "metadata": {},
   "outputs": [
    {
     "data": {
      "text/plain": [
       "(937, 2)"
      ]
     },
     "execution_count": 187,
     "metadata": {},
     "output_type": "execute_result"
    }
   ],
   "source": [
    "#removing the duplicates\n",
    "data=data.drop_duplicates(subset=['mail'])\n",
    "data.shape\n",
    "#25 duplicates mail are there"
   ]
  },
  {
   "cell_type": "code",
   "execution_count": 193,
   "metadata": {
    "collapsed": true
   },
   "outputs": [],
   "source": [
    "#stopwords\n",
    "stop = set(stopwords.words('english'))"
   ]
  },
  {
   "cell_type": "code",
   "execution_count": 195,
   "metadata": {},
   "outputs": [
    {
     "name": "stdout",
     "output_type": "stream",
     "text": [
      "{'you', 'our', 'hadn', 'been', 'in', 'where', \"needn't\", 'a', 'then', 'once', 'again', 'y', 'doing', \"isn't\", \"you've\", 'more', 'for', 'into', 'too', 'being', 'from', \"hadn't\", 'ours', 'this', 'which', 'her', 'his', 'its', 'll', 'while', 'until', 'was', 'between', \"you'll\", 'so', 'should', 'their', 'above', \"you're\", 'the', 'didn', 'shouldn', 'about', 'he', 'had', 'having', 'both', 'when', 'if', 'doesn', 'isn', 'up', \"shouldn't\", 'weren', 'down', \"she's\", 'during', 'because', 'further', 'under', 'than', \"mightn't\", 'that', 'myself', 'shan', \"that'll\", 'needn', \"won't\", \"shan't\", 'haven', 'do', 'over', 'why', 'will', 'of', 'ma', 'any', 'as', 'through', 'very', 'only', \"should've\", \"didn't\", 'same', 'we', 'each', 'does', 'himself', \"hasn't\", 'few', 'no', 's', 'hasn', 'yours', 'some', 'd', 've', 'i', 'those', 'all', 'mightn', 'here', \"haven't\", 'other', 'before', 'me', 'o', 'on', 'theirs', 'out', 'by', 'most', 'yourselves', \"wasn't\", 'and', \"you'd\", 'them', 'ourselves', 'herself', 'what', 'am', 'with', 'at', 't', 'can', 'wouldn', 'they', 'is', 'don', 'are', 'itself', 'below', 'it', 'whom', 'did', 'were', 'she', 'who', 'such', 're', 'to', 'off', 'hers', 'how', 'be', 'now', 'these', 'mustn', 'your', 'own', 'ain', 'themselves', 'there', 'yourself', 'just', 'couldn', 'but', 'aren', 'an', 'or', \"it's\", 'after', 'has', 'have', 'him', \"weren't\", \"mustn't\", 'my', \"aren't\", \"couldn't\", 'wasn', 'm'}\n"
     ]
    }
   ],
   "source": [
    "lst = [\"wouldn't\",'won', 'nor', 'not', 'against',\"doesn't\",\"don't\"]\n",
    "for word in lst:\n",
    "    stop.remove(word)\n",
    "print(stop)"
   ]
  },
  {
   "cell_type": "code",
   "execution_count": 196,
   "metadata": {
    "collapsed": true
   },
   "outputs": [],
   "source": [
    "#initialising the snowball stemmer\n",
    "sno = nltk.stem.SnowballStemmer('english')"
   ]
  },
  {
   "cell_type": "code",
   "execution_count": 197,
   "metadata": {
    "collapsed": true
   },
   "outputs": [],
   "source": [
    "#function to remove html tags\n",
    "def cleanhtml(sent):\n",
    "    cleanr=re.compile('<.*?>')\n",
    "    cleantext=re.sub(cleanr,' ',sent)\n",
    "    return cleantext"
   ]
  },
  {
   "cell_type": "code",
   "execution_count": 209,
   "metadata": {
    "collapsed": true
   },
   "outputs": [],
   "source": [
    "#function to remove punctuation\n",
    "def cleanpunc(sent):\n",
    "    cleaned=re.sub(r'[?|@|!|^|%|\\'|\"|#|$|:|*|+|-|=|\\-|&|_]',r'',sent)\n",
    "    cleaned=re.sub(r'[.|,|)|(|\\|/]',r' ',cleaned)\n",
    "    return cleaned"
   ]
  },
  {
   "cell_type": "code",
   "execution_count": 214,
   "metadata": {
    "collapsed": true
   },
   "outputs": [],
   "source": [
    "#function to implement preprocessing\n",
    "def pre(series):\n",
    "    '''The function takes a Pandas Series object containing text in all the cells\n",
    "       And performs following Preprocessing steps on each cell:\n",
    "       1. Clean text from html tags\n",
    "       2. Clean text from punctuations and special characters\n",
    "       3. Retain only non-numeric Latin characters with lenght > 2\n",
    "       4. Remove stopwords from the sentence\n",
    "       5. Apply stemming to all the words in the sentence\n",
    "       \n",
    "       Return values:\n",
    "       1. final_string - List of cleaned sentences\n",
    "       2. list_of_sent - List of lists which can be used as input to the W2V model'''\n",
    "    \n",
    "    i = 0\n",
    "    str1=\" \"\n",
    "    final_string = []    # This list will contain cleaned sentences\n",
    "    list_of_sent = []    # This is a list of lists used as input to the W2V model at a later stage\n",
    "    \n",
    "    ## Creating below lists for future use\n",
    "    all_positive_words=[] # store words from spam\n",
    "    all_negative_words=[] # store words from ham\n",
    "    \n",
    "    \n",
    "    for sent in series.values:\n",
    "        \n",
    "        filtered_sent = []\n",
    "        sent = cleanhtml(sent)    # Clean the HTML tags\n",
    "        sent = cleanpunc(sent)    # Clean the punctuations and special characters\n",
    "        # Sentences are cleaned and words are handled individually\n",
    "        for cleaned_words in sent.split():\n",
    "            # Only consider non-numeric words with length at least 3\n",
    "            if((cleaned_words.isalpha()) and (len(cleaned_words) > 2)):\n",
    "                # Only consider words which are not stopwords and convert them to lowet case\n",
    "                if(cleaned_words.lower() not in stop):\n",
    "                    # Apply snowball stemmer and add them to the filtered_sent list\n",
    "                    s = (sno.stem(cleaned_words.lower()))#.encode('utf-8')\n",
    "                    filtered_sent.append(s)    # This contains all the cleaned words for a sentence\n",
    "                    if (final['type'].values)[i] == 1:\n",
    "                        all_positive_words.append(s) #list of all words used to describe positive reviews\n",
    "                    if(final['type'].values)[i] == 0:\n",
    "                        all_negative_words.append(s) #list of all words used to describe negative reviews\n",
    "        # Below list is a list of lists used as input to W2V model later\n",
    "        list_of_sent.append(filtered_sent)\n",
    "        # Join back all the words belonging to the same sentence\n",
    "        str1 = \" \".join(filtered_sent)\n",
    "        # Finally add the cleaned sentence in the below list\n",
    "        final_string.append(str1)\n",
    "        i += 1\n",
    "    return final_string, list_of_sent"
   ]
  },
  {
   "cell_type": "code",
   "execution_count": 215,
   "metadata": {
    "collapsed": true
   },
   "outputs": [],
   "source": [
    "final_string,list_of_sent=pre(data['mail']) #function calling"
   ]
  },
  {
   "cell_type": "code",
   "execution_count": 216,
   "metadata": {},
   "outputs": [
    {
     "name": "stdout",
     "output_type": "stream",
     "text": [
      "(937, 3)\n"
     ]
    },
    {
     "data": {
      "text/html": [
       "<div>\n",
       "<style>\n",
       "    .dataframe thead tr:only-child th {\n",
       "        text-align: right;\n",
       "    }\n",
       "\n",
       "    .dataframe thead th {\n",
       "        text-align: left;\n",
       "    }\n",
       "\n",
       "    .dataframe tbody tr th {\n",
       "        vertical-align: top;\n",
       "    }\n",
       "</style>\n",
       "<table border=\"1\" class=\"dataframe\">\n",
       "  <thead>\n",
       "    <tr style=\"text-align: right;\">\n",
       "      <th></th>\n",
       "      <th>mail</th>\n",
       "      <th>type</th>\n",
       "      <th>cleaned_mail_stem</th>\n",
       "    </tr>\n",
       "  </thead>\n",
       "  <tbody>\n",
       "    <tr>\n",
       "      <th>0</th>\n",
       "      <td>* * * * * * * * * * * * * * * display box cred...</td>\n",
       "      <td>1</td>\n",
       "      <td>display box credit application need place smal...</td>\n",
       "    </tr>\n",
       "    <tr>\n",
       "      <th>1</th>\n",
       "      <td>dear nlpeople , ' m sure ' ll agree auto insur...</td>\n",
       "      <td>1</td>\n",
       "      <td>dear nlpeople sure agree auto insurance cost m...</td>\n",
       "    </tr>\n",
       "    <tr>\n",
       "      <th>2</th>\n",
       "      <td>want best hunt camp vacation life , felton 's ...</td>\n",
       "      <td>1</td>\n",
       "      <td>want best hunt camp vacation life felton hunt ...</td>\n",
       "    </tr>\n",
       "    <tr>\n",
       "      <th>3</th>\n",
       "      <td>57 million email addresses $ 99 want money ? p...</td>\n",
       "      <td>1</td>\n",
       "      <td>million email addresses want money put touch m...</td>\n",
       "    </tr>\n",
       "    <tr>\n",
       "      <th>4</th>\n",
       "      <td>attention ! warn ! adult ! warn ! adult ! unde...</td>\n",
       "      <td>1</td>\n",
       "      <td>attention warn adult warn adult age interest s...</td>\n",
       "    </tr>\n",
       "  </tbody>\n",
       "</table>\n",
       "</div>"
      ],
      "text/plain": [
       "                                                mail  type  \\\n",
       "0  * * * * * * * * * * * * * * * display box cred...     1   \n",
       "1  dear nlpeople , ' m sure ' ll agree auto insur...     1   \n",
       "2  want best hunt camp vacation life , felton 's ...     1   \n",
       "3  57 million email addresses $ 99 want money ? p...     1   \n",
       "4  attention ! warn ! adult ! warn ! adult ! unde...     1   \n",
       "\n",
       "                                   cleaned_mail_stem  \n",
       "0  display box credit application need place smal...  \n",
       "1  dear nlpeople sure agree auto insurance cost m...  \n",
       "2  want best hunt camp vacation life felton hunt ...  \n",
       "3  million email addresses want money put touch m...  \n",
       "4  attention warn adult warn adult age interest s...  "
      ]
     },
     "execution_count": 216,
     "metadata": {},
     "output_type": "execute_result"
    }
   ],
   "source": [
    "data['cleaned_mail_stem']=final_string #adding another column\n",
    "print(data.shape)\n",
    "data.head()"
   ]
  },
  {
   "cell_type": "code",
   "execution_count": 218,
   "metadata": {},
   "outputs": [
    {
     "data": {
      "text/plain": [
       "<function Connection.close>"
      ]
     },
     "execution_count": 218,
     "metadata": {},
     "output_type": "execute_result"
    }
   ],
   "source": [
    "#save the file\n",
    "conn=sqlite3.connect('spam.sqlite')\n",
    "c=conn.cursor()\n",
    "spam.to_sql('Data',conn,if_exists='replace',index=False)\n",
    "conn.close"
   ]
  },
  {
   "cell_type": "code",
   "execution_count": 222,
   "metadata": {
    "collapsed": true
   },
   "outputs": [],
   "source": [
    "with open('list_of_sent_for_input_to_w2v.pkl','wb') as pickle_file:\n",
    "    pickle.dump(list_of_sent,pickle_file)"
   ]
  },
  {
   "cell_type": "markdown",
   "metadata": {},
   "source": [
    "**BOW TSNE**"
   ]
  },
  {
   "cell_type": "code",
   "execution_count": 272,
   "metadata": {
    "collapsed": true
   },
   "outputs": [],
   "source": [
    "#shuffle data\n",
    "data=shuffle(data,random_state=123)"
   ]
  },
  {
   "cell_type": "code",
   "execution_count": 273,
   "metadata": {
    "collapsed": true
   },
   "outputs": [],
   "source": [
    "#initializing the vectorizer\n",
    "bow_vect=CountVectorizer()\n",
    "bow=bow_vect.fit_transform(data['cleaned_mail_stem'].values)\n",
    "x=bow[:,:].toarray()"
   ]
  },
  {
   "cell_type": "code",
   "execution_count": 274,
   "metadata": {},
   "outputs": [
    {
     "data": {
      "text/plain": [
       "<seaborn.axisgrid.FacetGrid at 0x21384db15f8>"
      ]
     },
     "execution_count": 274,
     "metadata": {},
     "output_type": "execute_result"
    },
    {
     "data": {
      "image/png": "[encoded data removed]",
      "text/plain": [
       "<matplotlib.figure.Figure at 0x21384cb2550>"
      ]
     },
     "metadata": {},
     "output_type": "display_data"
    }
   ],
   "source": [
    "tsne=TSNE(n_components=2,perplexity=30).fit_transform(x)\n",
    "df=pd.DataFrame(tsne,columns=('dim1','dim2'))\n",
    "df=pd.concat([df,data['type'].iloc[:]],axis=1)\n",
    "sns.FacetGrid(df,hue='type',size=5).map(plt.scatter,'dim1','dim2').add_legend()"
   ]
  },
  {
   "cell_type": "markdown",
   "metadata": {},
   "source": [
    "* the cluster is not linearly seprable in 2D."
   ]
  },
  {
   "cell_type": "markdown",
   "metadata": {},
   "source": [
    "** TFIDF TSNE**"
   ]
  },
  {
   "cell_type": "code",
   "execution_count": 275,
   "metadata": {
    "collapsed": true
   },
   "outputs": [],
   "source": [
    "#initializing the vectorizer\n",
    "tfidf_vec=TfidfVectorizer()\n",
    "tfidf=tfidf_vec.fit_transform(data['cleaned_mail_stem'].values)\n",
    "y=tfidf[:,:].toarray()"
   ]
  },
  {
   "cell_type": "code",
   "execution_count": 276,
   "metadata": {},
   "outputs": [
    {
     "data": {
      "text/plain": [
       "<seaborn.axisgrid.FacetGrid at 0x213841dc9b0>"
      ]
     },
     "execution_count": 276,
     "metadata": {},
     "output_type": "execute_result"
    },
    {
     "data": {
      "image/png": "[encoded data removed]",
      "text/plain": [
       "<matplotlib.figure.Figure at 0x213841ca748>"
      ]
     },
     "metadata": {},
     "output_type": "display_data"
    }
   ],
   "source": [
    "tsne=TSNE(n_components=2,perplexity=30).fit_transform(y)\n",
    "df=pd.DataFrame(tsne,columns=('dim1','dim2'))\n",
    "df=pd.concat([df,data['type'].iloc[:3500]],axis=1)\n",
    "sns.FacetGrid(df,hue='type',size=5).map(plt.scatter,'dim1','dim2').add_legend()"
   ]
  },
  {
   "cell_type": "markdown",
   "metadata": {},
   "source": [
    "* Here also the cluster is not linearly seprable in 2D."
   ]
  },
  {
   "cell_type": "markdown",
   "metadata": {},
   "source": [
    "**1) Binary BOW - bernoulliNB**"
   ]
  },
  {
   "cell_type": "code",
   "execution_count": 255,
   "metadata": {
    "collapsed": true
   },
   "outputs": [],
   "source": [
    "bow_vect=CountVectorizer(binary=True)\n",
    "bow=bow_vect.fit_transform(data['cleaned_mail_stem'].values)\n",
    "x=bow  \n",
    "y=data['type'].values\n",
    "x_train,x_test,y_train,y_test=train_test_split(x,y,test_size=0.3,shuffle=False)#train-test split "
   ]
  },
  {
   "cell_type": "code",
   "execution_count": 258,
   "metadata": {},
   "outputs": [
    {
     "name": "stdout",
     "output_type": "stream",
     "text": [
      "the optimal value of alpha is 0.030\n"
     ]
    },
    {
     "data": {
      "image/png": "[encoded data removed]",
      "text/plain": [
       "<matplotlib.figure.Figure at 0x21384116e48>"
      ]
     },
     "metadata": {},
     "output_type": "display_data"
    }
   ],
   "source": [
    "#code to find value of k\n",
    "alpha=np.linspace(0.01,0.1,10)\n",
    "cv_scores=[]\n",
    "\n",
    "for a in alpha:\n",
    "    clf=BernoulliNB(alpha=a)\n",
    "    score=cross_val_score(clf,x_train,y_train,cv=8,scoring='accuracy') #Hyper paramter -CV\n",
    "    cv_scores.append(score.mean())\n",
    "    \n",
    "MSE=[1-x for x in cv_scores]\n",
    "\n",
    "optimal_alpha=alpha[MSE.index(min(MSE))]\n",
    "print('the optimal value of alpha is %0.3f' % optimal_alpha)\n",
    "plt.plot(alpha,MSE)\n",
    "plt.xlabel('no. of alpha')\n",
    "plt.ylabel('misclassification error')\n",
    "plt.show()"
   ]
  },
  {
   "cell_type": "code",
   "execution_count": 259,
   "metadata": {},
   "outputs": [
    {
     "name": "stdout",
     "output_type": "stream",
     "text": [
      "99.6453900709\n"
     ]
    },
    {
     "data": {
      "text/plain": [
       "array([[145,   1],\n",
       "       [  0, 136]], dtype=int64)"
      ]
     },
     "execution_count": 259,
     "metadata": {},
     "output_type": "execute_result"
    }
   ],
   "source": [
    "#fitting the model on optimal value of k\n",
    "clf=BernoulliNB(alpha=optimal_alpha)\n",
    "clf.fit(x_train,y_train)\n",
    "y_pred=clf.predict(x_test) #generating prediction\n",
    "acc=accuracy_score(y_test,y_pred,normalize=True)*float(100)\n",
    "print(acc)\n",
    "cof=confusion_matrix(y_test,y_pred).T\n",
    "cof"
   ]
  },
  {
   "cell_type": "code",
   "execution_count": 260,
   "metadata": {},
   "outputs": [
    {
     "name": "stdout",
     "output_type": "stream",
     "text": [
      "precision is = 1.0\n",
      "recall is = 0.9927007299270073\n",
      "fscore is = 0.9963369963369962\n"
     ]
    }
   ],
   "source": [
    "#Evalution matrices\n",
    "tp=int(cof[1:,1:])\n",
    "fp=int(cof[1:,:1])\n",
    "fn=int(cof[:1,1:])\n",
    "pre=tp/(tp+fp)\n",
    "rec=tp/(tp+fn)\n",
    "fsco=(2*pre*rec)/(pre+rec)\n",
    "print(\"precision is =\",pre)\n",
    "print(\"recall is =\",rec)\n",
    "print(\"fscore is =\",fsco)"
   ]
  },
  {
   "cell_type": "markdown",
   "metadata": {},
   "source": [
    "**2) BOW - multinomialNB **"
   ]
  },
  {
   "cell_type": "code",
   "execution_count": 261,
   "metadata": {
    "collapsed": true
   },
   "outputs": [],
   "source": [
    "bow_vect=CountVectorizer()\n",
    "bow=bow_vect.fit_transform(data['cleaned_mail_stem'].values)\n",
    "x=bow  \n",
    "y=data['type'].values\n",
    "x_train,x_test,y_train,y_test=train_test_split(x,y,test_size=0.3,shuffle=False)"
   ]
  },
  {
   "cell_type": "code",
   "execution_count": 262,
   "metadata": {},
   "outputs": [
    {
     "name": "stdout",
     "output_type": "stream",
     "text": [
      "the optimal value of alpha is 0.043\n"
     ]
    },
    {
     "data": {
      "image/png": "[encoded data removed]",
      "text/plain": [
       "<matplotlib.figure.Figure at 0x2138f39dd30>"
      ]
     },
     "metadata": {},
     "output_type": "display_data"
    }
   ],
   "source": [
    "alpha=np.linspace(0.01,0.1,20)\n",
    "cv_scores=[]\n",
    "\n",
    "for a in alpha:\n",
    "    clf=MultinomialNB(alpha=a)\n",
    "    score=cross_val_score(clf,x_train,y_train,cv=8,scoring='accuracy') #Hyper paramter -CV\n",
    "    cv_scores.append(score.mean())\n",
    "    \n",
    "MSE=[1-x for x in cv_scores]\n",
    "\n",
    "optimal_alpha=alpha[MSE.index(min(MSE))]\n",
    "print('the optimal value of alpha is %0.3f' % optimal_alpha)\n",
    "plt.plot(alpha,MSE)\n",
    "plt.xlabel('no. of alpha')\n",
    "plt.ylabel('misclassification error')\n",
    "plt.show()"
   ]
  },
  {
   "cell_type": "code",
   "execution_count": 263,
   "metadata": {},
   "outputs": [
    {
     "name": "stdout",
     "output_type": "stream",
     "text": [
      "98.9361702128\n"
     ]
    },
    {
     "data": {
      "text/plain": [
       "array([[145,   3],\n",
       "       [  0, 134]], dtype=int64)"
      ]
     },
     "execution_count": 263,
     "metadata": {},
     "output_type": "execute_result"
    }
   ],
   "source": [
    "clf=MultinomialNB(alpha=optimal_alpha)\n",
    "clf.fit(x_train,y_train)\n",
    "y_pred=clf.predict(x_test)\n",
    "acc=accuracy_score(y_test,y_pred,normalize=True)*float(100)\n",
    "print(acc)\n",
    "cof=confusion_matrix(y_test,y_pred).T\n",
    "cof"
   ]
  },
  {
   "cell_type": "code",
   "execution_count": 264,
   "metadata": {},
   "outputs": [
    {
     "name": "stdout",
     "output_type": "stream",
     "text": [
      "precision is = 1.0\n",
      "recall is = 0.9781021897810219\n",
      "fscore is = 0.988929889298893\n"
     ]
    }
   ],
   "source": [
    "tp=int(cof[1:,1:])\n",
    "fp=int(cof[1:,:1])\n",
    "fn=int(cof[:1,1:])\n",
    "pre=tp/(tp+fp)\n",
    "rec=tp/(tp+fn)\n",
    "fsco=(2*pre*rec)/(pre+rec)\n",
    "print(\"precision is =\",pre)\n",
    "print(\"recall is =\",rec)\n",
    "print(\"fscore is =\",fsco)"
   ]
  },
  {
   "cell_type": "markdown",
   "metadata": {},
   "source": [
    "**3) TFIDF - multinomialNB **"
   ]
  },
  {
   "cell_type": "code",
   "execution_count": 265,
   "metadata": {
    "collapsed": true
   },
   "outputs": [],
   "source": [
    "tf_idf=TfidfVectorizer()\n",
    "tfidf=tf_idf.fit_transform(data['cleaned_mail_stem'].values)\n",
    "x=tfidf  \n",
    "y=data['type'].values\n",
    "x_train,x_test,y_train,y_test=train_test_split(x,y,test_size=0.3,shuffle=False)"
   ]
  },
  {
   "cell_type": "code",
   "execution_count": 269,
   "metadata": {},
   "outputs": [
    {
     "name": "stdout",
     "output_type": "stream",
     "text": [
      "the optimal value of alpha is 0.43\n"
     ]
    },
    {
     "data": {
      "image/png": "[encoded data removed]",
      "text/plain": [
       "<matplotlib.figure.Figure at 0x21384c12ba8>"
      ]
     },
     "metadata": {},
     "output_type": "display_data"
    }
   ],
   "source": [
    "alpha=np.linspace(0.1,1,20)\n",
    "cv_scores=[]\n",
    "\n",
    "for a in alpha:\n",
    "    clf=MultinomialNB(alpha=a)\n",
    "    score=cross_val_score(clf,x_train,y_train,cv=8,scoring='accuracy')\n",
    "    cv_scores.append(score.mean())\n",
    "    \n",
    "MSE=[1-x for x in cv_scores]\n",
    "\n",
    "optimal_alpha=alpha[MSE.index(min(MSE))]\n",
    "print('the optimal value of alpha is %0.2f' % optimal_alpha)\n",
    "plt.plot(alpha,MSE)\n",
    "plt.xlabel('no. of alpha')\n",
    "plt.ylabel('misclassification error')\n",
    "plt.show()"
   ]
  },
  {
   "cell_type": "code",
   "execution_count": 270,
   "metadata": {},
   "outputs": [
    {
     "name": "stdout",
     "output_type": "stream",
     "text": [
      "98.5815602837\n"
     ]
    },
    {
     "data": {
      "text/plain": [
       "array([[142,   1],\n",
       "       [  3, 136]], dtype=int64)"
      ]
     },
     "execution_count": 270,
     "metadata": {},
     "output_type": "execute_result"
    }
   ],
   "source": [
    "clf=MultinomialNB(alpha=optimal_alpha)\n",
    "clf.fit(x_train,y_train)\n",
    "y_pred=clf.predict(x_test)\n",
    "acc=accuracy_score(y_test,y_pred,normalize=True)*float(100)\n",
    "print(acc)\n",
    "cof=confusion_matrix(y_test,y_pred).T\n",
    "cof"
   ]
  },
  {
   "cell_type": "code",
   "execution_count": 271,
   "metadata": {},
   "outputs": [
    {
     "name": "stdout",
     "output_type": "stream",
     "text": [
      "precision is = 0.9784172661870504\n",
      "recall is = 0.9927007299270073\n",
      "fscore is = 0.9855072463768116\n"
     ]
    }
   ],
   "source": [
    "tp=int(cof[1:,1:])\n",
    "fp=int(cof[1:,:1])\n",
    "fn=int(cof[:1,1:])\n",
    "pre=tp/(tp+fp)\n",
    "rec=tp/(tp+fn)\n",
    "fsco=(2*pre*rec)/(pre+rec)\n",
    "print(\"precision is =\",pre)\n",
    "print(\"recall is =\",rec)\n",
    "print(\"fscore is =\",fsco)"
   ]
  },
  {
   "cell_type": "markdown",
   "metadata": {},
   "source": [
    "## Result\n",
    "    * Binary BOW,BOW and TFIDF gives exactly same accuracy, precision , recall and fscore.\n",
    "    * overall ,Binary BOW gives the best result and is the final model."
   ]
  }
 ],
 "metadata": {
  "kernelspec": {
   "display_name": "Python 3",
   "language": "python",
   "name": "python3"
  },
  "language_info": {
   "codemirror_mode": {
    "name": "ipython",
    "version": 3
   },
   "file_extension": ".py",
   "mimetype": "text/x-python",
   "name": "python",
   "nbconvert_exporter": "python",
   "pygments_lexer": "ipython3",
   "version": "3.6.3"
  }
 },
 "nbformat": 4,
 "nbformat_minor": 2
}
